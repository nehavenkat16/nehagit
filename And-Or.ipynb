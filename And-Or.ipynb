x = np.array([[0,0],[0,1],[1,0],[1,1]])
y = np.array([0,0,0,1])

weights = np.zeros(2)
bias = 0
lr = 0.1
epochs = 10
def step(x):
  return 1 if x>=0 else 0

for epoch in range(epochs):
  for i in range (len(x)):
    z = np.dot(x[i],weights)+bias
    pred = step(z)
    error = y[i]-pred
    weights +=lr*error*x[i]
    bias +=lr*error


print("weights",weights)
print("bias",bias)

for i in range(len (x)):
  z = np.dot(x[i],weights)+bias
  pred = step(z)
  print(f"input: {x[i]} => output : {pred}")
